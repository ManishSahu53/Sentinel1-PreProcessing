{
 "cells": [
  {
   "cell_type": "code",
   "execution_count": 1,
   "metadata": {},
   "outputs": [],
   "source": [
    "import os\n",
    "os.chdir('../')"
   ]
  },
  {
   "cell_type": "code",
   "execution_count": 2,
   "metadata": {},
   "outputs": [],
   "source": [
    "import snappy\n",
    "\n",
    "from snappy import ProductIO\n",
    "from snappy import HashMap\n",
    "\n",
    "import os, gc   \n",
    "from snappy import GPF\n",
    "\n",
    "GPF.getDefaultInstance().getOperatorSpiRegistry().loadOperatorSpis()\n",
    "HashMap = snappy.jpy.get_type('java.util.HashMap')\n"
   ]
  },
  {
   "cell_type": "code",
   "execution_count": 3,
   "metadata": {},
   "outputs": [],
   "source": [
    "\"\"\"\n",
    "Input:  Amplitude_VH, Intesity_VH, Amplitude_VV, Intensity_VV\n",
    "output: Amplitude_VH, Intesity_VH, Amplitude_VV, Intensity_VV\n",
    "\"\"\"\n",
    "def applyOrbit(timestamp, sentinel_image, HashMap):\n",
    "    print(\"applying orbit\")\n",
    "    file_format = '.dim'\n",
    "    path_output = os.path.join(input_dir, \"orb_\" + timestamp + file_format)\n",
    "    \n",
    "    if os.path.isfile(path_output):\n",
    "        print \"file already exists\"\n",
    "    else:\n",
    "        \n",
    "        parameters = HashMap()\n",
    "        orbit_param = snappy.GPF.createProduct(\"Apply-Orbit-File\", parameters, sentinel_image)\n",
    "        ProductIO.writeProduct(orbit_param, path_output[:-4], 'BEAM-DIMAP')  \n",
    "        \n",
    "    return 0\n",
    "\n",
    "\n",
    "def applyThermalNoiseRemoval(timestamp, HashMap):\n",
    "\n",
    "    print('applying Thermal noise removal')\n",
    "    file_format = '.dim'\n",
    "    path_output = os.path.join(input_dir, \"therm_\" + timestamp + file_format)\n",
    "    path_input = os.path.join(input_dir, \"orb_\" +  timestamp + file_format)\n",
    "\n",
    "    if os.path.isfile(path_output):\n",
    "        print \"file already exists\"   \n",
    "    else:       \n",
    "        parameters = HashMap()\n",
    "        parameters.put('removeThermalNoise', True)\n",
    "        thermal_param = snappy.GPF.createProduct('ThermalNoiseRemoval', parameters, ProductIO.readProduct(path_input))\n",
    "\n",
    "        ProductIO.writeProduct(thermal_param, path_output[:-4], 'BEAM-DIMAP')\n",
    "    \n",
    "    return 0\n",
    "\n",
    "\"\"\"\n",
    "Input:  Amplitude_VH, Intesity_VH, Amplitude_VV, Intensity_VV\n",
    "output: beta0_VH, beta0_VV\n",
    "\"\"\"\n",
    "def applyCalibration(timestamp, HashMap):\n",
    "    print(\"applying calibration\")\n",
    "    file_format = '.dim' \n",
    "    path_output = os.path.join(input_dir, \"calib_\" + timestamp + file_format)\n",
    "    path_input = os.path.join(input_dir, \"therm_\" + timestamp + file_format)\n",
    "\n",
    "    if os.path.isfile(path_output):\n",
    "        print \"file already exists\"\n",
    "    else:\n",
    "        parameters = HashMap()\n",
    "        parameters.put('outputSigmaBand', False)\n",
    "        parameters.put('outputBetaBand', True)\n",
    "\n",
    "        calib_param = snappy.GPF.createProduct(\"Calibration\", parameters, ProductIO.readProduct(path_input))\n",
    "        ProductIO.writeProduct(calib_param, path_output[:-4], 'BEAM-DIMAP')\n",
    "    \n",
    "    return 0\n",
    " \n",
    "\"\"\"\n",
    "Input:  beta0_VH, beta0_VV\n",
    "output: beta0_VH, beta0_VV\n",
    "\"\"\"\n",
    "def applyMultilook(timestamp, HashMap):\n",
    " \n",
    "    print(\"applying mulilook\")\n",
    "    file_format = '.dim'\n",
    "    path_output = os.path.join(input_dir, \"multi_\" + timestamp + file_format) \n",
    "    path_input = os.path.join(input_dir, \"calib_\" + timestamp + file_format)\n",
    "\n",
    "    if os.path.isfile(path_output):\n",
    "        print \"file already exisist\"       \n",
    "\n",
    "    else:\n",
    "        azLooks = 3\n",
    "        rgLooks = 3\n",
    "        parameters = HashMap()\n",
    "\n",
    "        parameters.put('grSquarePixel', True)\n",
    "        parameters.put('nRgLooks', rgLooks)\n",
    "        parameters.put('nAzLooks', azLooks)\n",
    "        parameters.put('outputIntensity', False)\n",
    "        multi_param = snappy.GPF.createProduct(\"Multilook\", parameters, ProductIO.readProduct(path_input))\n",
    "        ProductIO.writeProduct(multi_param, path_output[:-4], 'BEAM-DIMAP')\n",
    "        \n",
    "    return 0\n",
    " \n",
    "\"\"\"\n",
    "Input:  beta0_VH, beta0_VV\n",
    "output: gamma0_VH, gamma0_VV\n",
    "\"\"\"\n",
    "def applyTerrainCorrection(timestamp, HashMap):\n",
    "\n",
    "    print(\"applying terrain correction\")\n",
    "    file_format = '.dim'\n",
    "\n",
    "    path_output = os.path.join(input_dir, \"terr_\" + timestamp + file_format)\n",
    "    path_input = os.path.join(input_dir, \"multi_\" +  timestamp + file_format)\n",
    "\n",
    "    if os.path.isfile(path_output):\n",
    "        print \"file already exists\"        \n",
    "\n",
    "    else:\n",
    "        parameters = HashMap()\n",
    "\n",
    "        parameters.put('demResamplingMethod', 'BICUBIC_INTERPOLATION')\n",
    "        parameters.put('demName', 'SRTM 1Sec HGT')\n",
    "\n",
    "        terr_param = snappy.GPF.createProduct(\"Terrain-Flattening\", parameters,ProductIO.readProduct(path_input))\n",
    "        ProductIO.writeProduct(terr_param, path_output[:-4], 'BEAM-DIMAP')\n",
    "    \n",
    "    return 0\n",
    "\n",
    "\"\"\"\n",
    "Input:  gamma0_VH, gamma0_VV\n",
    "output: gamma0_VH, gamma0_VV\n",
    "\"\"\"\n",
    "def applyOrthorectification(timestamp, HashMap):\n",
    "    \n",
    "    print(\"applying Orthorectification\")\n",
    "    file_format = '.dim'\n",
    "    \n",
    "    path_output = os.path.join(input_dir, \"orth_\" + timestamp + file_format)\n",
    "    path_input = os.path.join(input_dir, \"terr_\" +  timestamp + file_format)\n",
    "\n",
    "    if os.path.isfile(path_output):\n",
    "        print \"file already exists\"        \n",
    "\n",
    "    else:\n",
    "        parameters = HashMap()\n",
    "\n",
    "        orth_param = snappy.GPF.createProduct(\"Ellipsoid-Correction-GG\", parameters,ProductIO.readProduct(path_input))\n",
    "        ProductIO.writeProduct(orth_param, path_output[:-4], 'BEAM-DIMAP')\n",
    "    \n",
    "    return 0\n",
    "\n",
    "\"\"\"\n",
    "Input:  gamma0_VH, gamma0_VV\n",
    "output: gamma0_VH, gamma0_VV\n",
    "\"\"\"\n",
    "def applySpeckleFilter(timestamp, HashMap):\n",
    "    \n",
    "    filter = 7\n",
    "    print(\"applying Speckle filter\")\n",
    "    file_format = '.dim'\n",
    "    path_output = os.path.join(input_dir, \"speck_\" + timestamp + file_format)\n",
    "    path_input = os.path.join(input_dir, \"orth_\" +  timestamp + file_format)\n",
    "\n",
    "    if os.path.isfile(path_output):\n",
    "        print \"file already exists\"        \n",
    "\n",
    "    else:\n",
    "        parameters = HashMap()\n",
    "\n",
    "        parameters.put('filter', 'Lee Sigma')\n",
    "        parameters.put('numberofLooks', 4)\n",
    "        parameters.put('windowSize', \"{}x{}\".format(filter, filter))\n",
    "        parameters.put('sigma', 0.9)\n",
    "        parameters.put('targetWindowSize', \"{}x{}\".format(filter, filter))\n",
    "\n",
    "        speck_param = snappy.GPF.createProduct(\"Speckle-Filter\", parameters,ProductIO.readProduct(path_input))\n",
    "        ProductIO.writeProduct(speck_param, path_output[:-4], 'GeoTIFF')\n",
    "\n",
    "    return 0"
   ]
  },
  {
   "cell_type": "code",
   "execution_count": 4,
   "metadata": {},
   "outputs": [],
   "source": [
    "\n",
    "folder = 'data/processed/S1A_IW_GRDH_1SDV_20201222T174529_20201222T174554_035802_0430E6_8C1D.SAFE'\n",
    "input_dir = 'data/processed/'\n",
    "\n",
    "timestamp = folder.split(\"_\")[5]\n",
    "sentinel_image = ProductIO.readProduct(folder)"
   ]
  },
  {
   "cell_type": "code",
   "execution_count": 5,
   "metadata": {},
   "outputs": [
    {
     "name": "stdout",
     "output_type": "stream",
     "text": [
      "applying orbit\n",
      "CPU times: user 28.4 s, sys: 4.14 s, total: 32.6 s\n",
      "Wall time: 1min 4s\n"
     ]
    },
    {
     "data": {
      "text/plain": [
       "0"
      ]
     },
     "execution_count": 5,
     "metadata": {},
     "output_type": "execute_result"
    }
   ],
   "source": [
    "%%time\n",
    "# add the orbit file\n",
    "applyOrbit(timestamp, sentinel_image, HashMap)"
   ]
  },
  {
   "cell_type": "code",
   "execution_count": 6,
   "metadata": {},
   "outputs": [
    {
     "name": "stdout",
     "output_type": "stream",
     "text": [
      "applying Thermal noise removal\n",
      "CPU times: user 1min 8s, sys: 7.29 s, total: 1min 15s\n",
      "Wall time: 3min 18s\n"
     ]
    },
    {
     "data": {
      "text/plain": [
       "0"
      ]
     },
     "execution_count": 6,
     "metadata": {},
     "output_type": "execute_result"
    }
   ],
   "source": [
    "%%time\n",
    "# Thermal Noise Removal\n",
    "applyThermalNoiseRemoval(timestamp, HashMap)"
   ]
  },
  {
   "cell_type": "code",
   "execution_count": 7,
   "metadata": {},
   "outputs": [
    {
     "name": "stdout",
     "output_type": "stream",
     "text": [
      "applying calibration\n",
      "CPU times: user 46.3 s, sys: 8.99 s, total: 55.3 s\n",
      "Wall time: 4min 14s\n"
     ]
    },
    {
     "data": {
      "text/plain": [
       "0"
      ]
     },
     "execution_count": 7,
     "metadata": {},
     "output_type": "execute_result"
    }
   ],
   "source": [
    "%%time\n",
    "# Calibration\n",
    "applyCalibration(timestamp, HashMap)"
   ]
  },
  {
   "cell_type": "code",
   "execution_count": 8,
   "metadata": {},
   "outputs": [
    {
     "name": "stdout",
     "output_type": "stream",
     "text": [
      "applying mulilook\n",
      "CPU times: user 16.9 s, sys: 7.11 s, total: 24.1 s\n",
      "Wall time: 3min 10s\n"
     ]
    },
    {
     "data": {
      "text/plain": [
       "0"
      ]
     },
     "execution_count": 8,
     "metadata": {},
     "output_type": "execute_result"
    }
   ],
   "source": [
    "%%time\n",
    "# Multi look\n",
    "applyMultilook(timestamp, HashMap)"
   ]
  },
  {
   "cell_type": "code",
   "execution_count": 9,
   "metadata": {},
   "outputs": [
    {
     "name": "stdout",
     "output_type": "stream",
     "text": [
      "applying terrain correction\n",
      "CPU times: user 6min 44s, sys: 1.41 s, total: 6min 46s\n",
      "Wall time: 10min 6s\n"
     ]
    },
    {
     "data": {
      "text/plain": [
       "0"
      ]
     },
     "execution_count": 9,
     "metadata": {},
     "output_type": "execute_result"
    }
   ],
   "source": [
    "%%time\n",
    "# Terrain Correction\n",
    "applyTerrainCorrection(timestamp, HashMap)"
   ]
  },
  {
   "cell_type": "code",
   "execution_count": 10,
   "metadata": {},
   "outputs": [
    {
     "name": "stdout",
     "output_type": "stream",
     "text": [
      "applying Orthorectification\n",
      "CPU times: user 3min 36s, sys: 1.41 s, total: 3min 37s\n",
      "Wall time: 2min 51s\n"
     ]
    },
    {
     "data": {
      "text/plain": [
       "0"
      ]
     },
     "execution_count": 10,
     "metadata": {},
     "output_type": "execute_result"
    }
   ],
   "source": [
    "%%time\n",
    "# Ortho rectification\n",
    "applyOrthorectification(timestamp, HashMap)"
   ]
  },
  {
   "cell_type": "code",
   "execution_count": 11,
   "metadata": {},
   "outputs": [
    {
     "name": "stdout",
     "output_type": "stream",
     "text": [
      "applying Speckle filter\n",
      "CPU times: user 4min 22s, sys: 3.43 s, total: 4min 26s\n",
      "Wall time: 3min 24s\n"
     ]
    },
    {
     "data": {
      "text/plain": [
       "0"
      ]
     },
     "execution_count": 11,
     "metadata": {},
     "output_type": "execute_result"
    }
   ],
   "source": [
    "%%time\n",
    "# Speckle Filter\n",
    "applySpeckleFilter(timestamp, HashMap)"
   ]
  },
  {
   "cell_type": "code",
   "execution_count": null,
   "metadata": {},
   "outputs": [],
   "source": []
  },
  {
   "cell_type": "code",
   "execution_count": null,
   "metadata": {},
   "outputs": [],
   "source": []
  },
  {
   "cell_type": "code",
   "execution_count": null,
   "metadata": {},
   "outputs": [],
   "source": [
    "\"\"\"\n",
    "Orbit files may be downloaded from https://qc.sentinel1.eo.esa.int/\n",
    "and placed in /home/ankush/.snap/auxdata/Orbits/Sentinel-1/POEORB/S1A/2020/12\n",
    "\n",
    "\"\"\""
   ]
  },
  {
   "cell_type": "code",
   "execution_count": null,
   "metadata": {},
   "outputs": [],
   "source": []
  },
  {
   "cell_type": "code",
   "execution_count": null,
   "metadata": {},
   "outputs": [],
   "source": []
  },
  {
   "cell_type": "code",
   "execution_count": null,
   "metadata": {},
   "outputs": [],
   "source": []
  }
 ],
 "metadata": {
  "kernelspec": {
   "display_name": "Python 2",
   "language": "python",
   "name": "python2"
  },
  "language_info": {
   "codemirror_mode": {
    "name": "ipython",
    "version": 2
   },
   "file_extension": ".py",
   "mimetype": "text/x-python",
   "name": "python",
   "nbconvert_exporter": "python",
   "pygments_lexer": "ipython2",
   "version": "2.7.18"
  }
 },
 "nbformat": 4,
 "nbformat_minor": 2
}
